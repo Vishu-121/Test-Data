{
  "nbformat": 4,
  "nbformat_minor": 0,
  "metadata": {
    "colab": {
      "provenance": [],
      "collapsed_sections": [],
      "authorship_tag": "ABX9TyM0itJVXreEgV0MQ4FEgaKb",
      "include_colab_link": true
    },
    "kernelspec": {
      "name": "python3",
      "display_name": "Python 3"
    },
    "language_info": {
      "name": "python"
    }
  },
  "cells": [
    {
      "cell_type": "markdown",
      "metadata": {
        "id": "view-in-github",
        "colab_type": "text"
      },
      "source": [
        "<a href=\"https://colab.research.google.com/github/Vishu-121/Test-Data/blob/main/Test_Data.ipynb\" target=\"_parent\"><img src=\"https://colab.research.google.com/assets/colab-badge.svg\" alt=\"Open In Colab\"/></a>"
      ]
    },
    {
      "cell_type": "code",
      "execution_count": null,
      "metadata": {
        "colab": {
          "base_uri": "https://localhost:8080/"
        },
        "id": "7-HGd7QZHGai",
        "outputId": "4e129e48-2edc-432e-a1c7-1c8278c87c9e"
      },
      "outputs": [
        {
          "output_type": "stream",
          "name": "stdout",
          "text": [
            "Mounted at /content/drive\n"
          ]
        }
      ],
      "source": [
        "from google.colab import drive\n",
        "drive.mount(\"/content/drive\")"
      ]
    },
    {
      "cell_type": "code",
      "source": [
        "import pandas as pd\n",
        "df=pd.read_csv(\"/content/drive/MyDrive/Colab Notebooks/Data Analyst - Test Data.csv\")\n",
        "df"
      ],
      "metadata": {
        "colab": {
          "base_uri": "https://localhost:8080/",
          "height": 424
        },
        "id": "dGjvhBUWIwUx",
        "outputId": "b4daa746-35ab-411b-981f-c1cbcf310198"
      },
      "execution_count": null,
      "outputs": [
        {
          "output_type": "execute_result",
          "data": {
            "text/plain": [
              "                                                 Review        date  \\\n",
              "0     I was very impressed with the resort.\\n Great ...  2019/08/20   \n",
              "1     The rooms were nice the outside needs work als...  2019/08/20   \n",
              "2     Great location! I have stayed at this hotel on...  2019/08/20   \n",
              "3     The hotel was adequate for my stay. The strips...  2019/08/20   \n",
              "4     Great location, room was large and spacious. P...  2019/08/19   \n",
              "...                                                 ...         ...   \n",
              "6443  ·the staff were all so friendly. frank, the ch...  2019/07/12   \n",
              "6444         ·the internet barely worked or didn't work  2019/07/12   \n",
              "6445  ·the location was great.\\n \\n \\n \\n \\n ·the be...  2019/07/10   \n",
              "6446  ·we were early for check in and the staff was ...  2019/07/10   \n",
              "6447  ·staff, free coffee, location and activities.\\...  2019/07/10   \n",
              "\n",
              "                      Location  \n",
              "0                    Sebastian  \n",
              "1                  Los Angeles  \n",
              "2                      Georgia  \n",
              "3                          NaN  \n",
              "4                  Palm Harbor  \n",
              "...                        ...  \n",
              "6443  United States of America  \n",
              "6444  United States of America  \n",
              "6445  United States of America  \n",
              "6446  United States of America  \n",
              "6447  United States of America  \n",
              "\n",
              "[6448 rows x 3 columns]"
            ],
            "text/html": [
              "\n",
              "  <div id=\"df-ac4e90cf-4238-447e-b042-45fb9d36be2d\">\n",
              "    <div class=\"colab-df-container\">\n",
              "      <div>\n",
              "<style scoped>\n",
              "    .dataframe tbody tr th:only-of-type {\n",
              "        vertical-align: middle;\n",
              "    }\n",
              "\n",
              "    .dataframe tbody tr th {\n",
              "        vertical-align: top;\n",
              "    }\n",
              "\n",
              "    .dataframe thead th {\n",
              "        text-align: right;\n",
              "    }\n",
              "</style>\n",
              "<table border=\"1\" class=\"dataframe\">\n",
              "  <thead>\n",
              "    <tr style=\"text-align: right;\">\n",
              "      <th></th>\n",
              "      <th>Review</th>\n",
              "      <th>date</th>\n",
              "      <th>Location</th>\n",
              "    </tr>\n",
              "  </thead>\n",
              "  <tbody>\n",
              "    <tr>\n",
              "      <th>0</th>\n",
              "      <td>I was very impressed with the resort.\\n Great ...</td>\n",
              "      <td>2019/08/20</td>\n",
              "      <td>Sebastian</td>\n",
              "    </tr>\n",
              "    <tr>\n",
              "      <th>1</th>\n",
              "      <td>The rooms were nice the outside needs work als...</td>\n",
              "      <td>2019/08/20</td>\n",
              "      <td>Los Angeles</td>\n",
              "    </tr>\n",
              "    <tr>\n",
              "      <th>2</th>\n",
              "      <td>Great location! I have stayed at this hotel on...</td>\n",
              "      <td>2019/08/20</td>\n",
              "      <td>Georgia</td>\n",
              "    </tr>\n",
              "    <tr>\n",
              "      <th>3</th>\n",
              "      <td>The hotel was adequate for my stay. The strips...</td>\n",
              "      <td>2019/08/20</td>\n",
              "      <td>NaN</td>\n",
              "    </tr>\n",
              "    <tr>\n",
              "      <th>4</th>\n",
              "      <td>Great location, room was large and spacious. P...</td>\n",
              "      <td>2019/08/19</td>\n",
              "      <td>Palm Harbor</td>\n",
              "    </tr>\n",
              "    <tr>\n",
              "      <th>...</th>\n",
              "      <td>...</td>\n",
              "      <td>...</td>\n",
              "      <td>...</td>\n",
              "    </tr>\n",
              "    <tr>\n",
              "      <th>6443</th>\n",
              "      <td>·the staff were all so friendly. frank, the ch...</td>\n",
              "      <td>2019/07/12</td>\n",
              "      <td>United States of America</td>\n",
              "    </tr>\n",
              "    <tr>\n",
              "      <th>6444</th>\n",
              "      <td>·the internet barely worked or didn't work</td>\n",
              "      <td>2019/07/12</td>\n",
              "      <td>United States of America</td>\n",
              "    </tr>\n",
              "    <tr>\n",
              "      <th>6445</th>\n",
              "      <td>·the location was great.\\n \\n \\n \\n \\n ·the be...</td>\n",
              "      <td>2019/07/10</td>\n",
              "      <td>United States of America</td>\n",
              "    </tr>\n",
              "    <tr>\n",
              "      <th>6446</th>\n",
              "      <td>·we were early for check in and the staff was ...</td>\n",
              "      <td>2019/07/10</td>\n",
              "      <td>United States of America</td>\n",
              "    </tr>\n",
              "    <tr>\n",
              "      <th>6447</th>\n",
              "      <td>·staff, free coffee, location and activities.\\...</td>\n",
              "      <td>2019/07/10</td>\n",
              "      <td>United States of America</td>\n",
              "    </tr>\n",
              "  </tbody>\n",
              "</table>\n",
              "<p>6448 rows × 3 columns</p>\n",
              "</div>\n",
              "      <button class=\"colab-df-convert\" onclick=\"convertToInteractive('df-ac4e90cf-4238-447e-b042-45fb9d36be2d')\"\n",
              "              title=\"Convert this dataframe to an interactive table.\"\n",
              "              style=\"display:none;\">\n",
              "        \n",
              "  <svg xmlns=\"http://www.w3.org/2000/svg\" height=\"24px\"viewBox=\"0 0 24 24\"\n",
              "       width=\"24px\">\n",
              "    <path d=\"M0 0h24v24H0V0z\" fill=\"none\"/>\n",
              "    <path d=\"M18.56 5.44l.94 2.06.94-2.06 2.06-.94-2.06-.94-.94-2.06-.94 2.06-2.06.94zm-11 1L8.5 8.5l.94-2.06 2.06-.94-2.06-.94L8.5 2.5l-.94 2.06-2.06.94zm10 10l.94 2.06.94-2.06 2.06-.94-2.06-.94-.94-2.06-.94 2.06-2.06.94z\"/><path d=\"M17.41 7.96l-1.37-1.37c-.4-.4-.92-.59-1.43-.59-.52 0-1.04.2-1.43.59L10.3 9.45l-7.72 7.72c-.78.78-.78 2.05 0 2.83L4 21.41c.39.39.9.59 1.41.59.51 0 1.02-.2 1.41-.59l7.78-7.78 2.81-2.81c.8-.78.8-2.07 0-2.86zM5.41 20L4 18.59l7.72-7.72 1.47 1.35L5.41 20z\"/>\n",
              "  </svg>\n",
              "      </button>\n",
              "      \n",
              "  <style>\n",
              "    .colab-df-container {\n",
              "      display:flex;\n",
              "      flex-wrap:wrap;\n",
              "      gap: 12px;\n",
              "    }\n",
              "\n",
              "    .colab-df-convert {\n",
              "      background-color: #E8F0FE;\n",
              "      border: none;\n",
              "      border-radius: 50%;\n",
              "      cursor: pointer;\n",
              "      display: none;\n",
              "      fill: #1967D2;\n",
              "      height: 32px;\n",
              "      padding: 0 0 0 0;\n",
              "      width: 32px;\n",
              "    }\n",
              "\n",
              "    .colab-df-convert:hover {\n",
              "      background-color: #E2EBFA;\n",
              "      box-shadow: 0px 1px 2px rgba(60, 64, 67, 0.3), 0px 1px 3px 1px rgba(60, 64, 67, 0.15);\n",
              "      fill: #174EA6;\n",
              "    }\n",
              "\n",
              "    [theme=dark] .colab-df-convert {\n",
              "      background-color: #3B4455;\n",
              "      fill: #D2E3FC;\n",
              "    }\n",
              "\n",
              "    [theme=dark] .colab-df-convert:hover {\n",
              "      background-color: #434B5C;\n",
              "      box-shadow: 0px 1px 3px 1px rgba(0, 0, 0, 0.15);\n",
              "      filter: drop-shadow(0px 1px 2px rgba(0, 0, 0, 0.3));\n",
              "      fill: #FFFFFF;\n",
              "    }\n",
              "  </style>\n",
              "\n",
              "      <script>\n",
              "        const buttonEl =\n",
              "          document.querySelector('#df-ac4e90cf-4238-447e-b042-45fb9d36be2d button.colab-df-convert');\n",
              "        buttonEl.style.display =\n",
              "          google.colab.kernel.accessAllowed ? 'block' : 'none';\n",
              "\n",
              "        async function convertToInteractive(key) {\n",
              "          const element = document.querySelector('#df-ac4e90cf-4238-447e-b042-45fb9d36be2d');\n",
              "          const dataTable =\n",
              "            await google.colab.kernel.invokeFunction('convertToInteractive',\n",
              "                                                     [key], {});\n",
              "          if (!dataTable) return;\n",
              "\n",
              "          const docLinkHtml = 'Like what you see? Visit the ' +\n",
              "            '<a target=\"_blank\" href=https://colab.research.google.com/notebooks/data_table.ipynb>data table notebook</a>'\n",
              "            + ' to learn more about interactive tables.';\n",
              "          element.innerHTML = '';\n",
              "          dataTable['output_type'] = 'display_data';\n",
              "          await google.colab.output.renderOutput(dataTable, element);\n",
              "          const docLink = document.createElement('div');\n",
              "          docLink.innerHTML = docLinkHtml;\n",
              "          element.appendChild(docLink);\n",
              "        }\n",
              "      </script>\n",
              "    </div>\n",
              "  </div>\n",
              "  "
            ]
          },
          "metadata": {},
          "execution_count": 3
        }
      ]
    },
    {
      "cell_type": "markdown",
      "source": [
        "1. From which location, most reviews came?(Top 5)"
      ],
      "metadata": {
        "id": "hif2GN55JsZP"
      }
    },
    {
      "cell_type": "code",
      "source": [
        "data=[]\n",
        "for item in df[\"Location\"].unique():\n",
        "  data.append([item, len(df[df[\"Location\"]==item])])\n",
        "data=pd.DataFrame(data, columns=[\"Location\",\"Frequency\"]).sort_values(by=\"Frequency\", ascending=False).head().plot(x=\"Location\",y=\"Frequency\",kind=\"line\",figsize=(10,5))"
      ],
      "metadata": {
        "colab": {
          "base_uri": "https://localhost:8080/",
          "height": 335
        },
        "id": "3g36Dy8iJrWS",
        "outputId": "45038be3-abfc-420d-c695-b66eb473d9bb"
      },
      "execution_count": null,
      "outputs": [
        {
          "output_type": "display_data",
          "data": {
            "text/plain": [
              "<Figure size 720x360 with 1 Axes>"
            ],
            "image/png": "[encoded data removed]"
          },
          "metadata": {
            "needs_background": "light"
          }
        }
      ]
    },
    {
      "cell_type": "markdown",
      "source": [
        "2. On which year the most reviews are coming?"
      ],
      "metadata": {
        "id": "sfV0-6TmPkNU"
      }
    },
    {
      "cell_type": "code",
      "source": [
        "year=[]\n",
        "b=0\n",
        "for item in df[\"date\"]:\n",
        "  b=b+1\n",
        "  year.append([item[0:4],b])\n",
        "year=pd.DataFrame(year, columns=[\"Year\",\"Order\"])\n",
        "data=[]\n",
        "for item in year[\"Year\"].unique():\n",
        "  data.append([item, len(year[year[\"Year\"]==item])])\n",
        "data=pd.DataFrame(data, columns=[\"Year\",\"Freq\"]).sort_values(by=\"Freq\",ascending=False).head(2).plot(x=\"Year\",y=\"Freq\",kind=\"bar\",figsize=(10,5))"
      ],
      "metadata": {
        "colab": {
          "base_uri": "https://localhost:8080/",
          "height": 349
        },
        "id": "z_xaqnhNPraj",
        "outputId": "429d50ff-4411-4e6b-b9ea-a382f9c60653"
      },
      "execution_count": null,
      "outputs": [
        {
          "output_type": "display_data",
          "data": {
            "text/plain": [
              "<Figure size 720x360 with 1 Axes>"
            ],
            "image/png": "[encoded data removed]"
          },
          "metadata": {
            "needs_background": "light"
          }
        }
      ]
    },
    {
      "cell_type": "markdown",
      "source": [
        "3. Distribute reviews on the basis of (Very Short Reviews, Short Reviews, Long Reviews, Very Long Reviews)."
      ],
      "metadata": {
        "id": "lcusJ5i-b33d"
      }
    },
    {
      "cell_type": "code",
      "source": [
        "a=0\n",
        "b=0\n",
        "c=0\n",
        "d=0\n",
        "for item in df[\"Review\"]:\n",
        "  item=str(item)\n",
        "  if(len(item)<=100):\n",
        "    a=a+1\n",
        "  elif(len(item)<=500):\n",
        "    b=b+1\n",
        "  elif(len(item)<=1000):\n",
        "    c=c+1\n",
        "  elif(len(item)<=1550):\n",
        "    d=d+1\n",
        "\n",
        "print(str(b)+\" Short Reviews.\")\n",
        "print(str(a)+\" Very Short Reviews.\")\n",
        "print(str(c)+\" Long Reviews.\")\n",
        "print(str(d)+\" Very Long Reviews.\")"
      ],
      "metadata": {
        "colab": {
          "base_uri": "https://localhost:8080/"
        },
        "id": "43Hg7upcb4t3",
        "outputId": "28707b72-7002-41f7-e501-670e74e1b81f"
      },
      "execution_count": null,
      "outputs": [
        {
          "output_type": "stream",
          "name": "stdout",
          "text": [
            "4426 Short Reviews.\n",
            "1472 Very Short Reviews.\n",
            "438 Long Reviews.\n",
            "112 Very Long Reviews.\n"
          ]
        }
      ]
    },
    {
      "cell_type": "markdown",
      "source": [
        "4. Which day has the most reviews?(Top 5)"
      ],
      "metadata": {
        "id": "0lsiSw4fk8sw"
      }
    },
    {
      "cell_type": "code",
      "source": [
        "df.groupby(\"date\").count()[\"Review\"].sort_values(ascending=False).head().plot(kind=\"pie\",figsize=(10,5))"
      ],
      "metadata": {
        "colab": {
          "base_uri": "https://localhost:8080/",
          "height": 321
        },
        "id": "nVaBA05QlXpF",
        "outputId": "ff34ccb7-f015-4659-d761-bc1eac88d160"
      },
      "execution_count": null,
      "outputs": [
        {
          "output_type": "execute_result",
          "data": {
            "text/plain": [
              "<matplotlib.axes._subplots.AxesSubplot at 0x7f56d59ba090>"
            ]
          },
          "metadata": {},
          "execution_count": 74
        },
        {
          "output_type": "display_data",
          "data": {
            "text/plain": [
              "<Figure size 720x360 with 1 Axes>"
            ],
            "image/png": "[encoded data removed]"
          },
          "metadata": {}
        }
      ]
    },
    {
      "cell_type": "markdown",
      "source": [
        "5. Count the Unique Locations."
      ],
      "metadata": {
        "id": "GeywBKZDm3tC"
      }
    },
    {
      "cell_type": "code",
      "source": [
        "lst=[]\n",
        "for item in df[\"Location\"].unique():\n",
        "  lst.append(item)\n",
        "print(lst)\n",
        "print(\"There are \"+str(len(lst))+\" Unique Locations.\")"
      ],
      "metadata": {
        "colab": {
          "base_uri": "https://localhost:8080/"
        },
        "id": "NKmITVxJnAEl",
        "outputId": "d9be293c-d3df-4367-8936-12ac86244b14"
      },
      "execution_count": null,
      "outputs": [
        {
          "output_type": "stream",
          "name": "stdout",
          "text": [
            "['Sebastian', 'Los Angeles', 'Georgia', nan, 'Palm Harbor', 'California', 'Redding', 'Jacksonville', 'España', 'Montréal', 'Grand Cayman, Cayman Islands', 'La quinta', 'Seattle', 'savasse France', 'Riverside', 'Champaign, IL', 'Pennsylvania', 'Toulon', 'Lake Buena Vista - Orlando', 'Australia', 'Las Vegas', 'México', 'Miami', 'San Antonio,TX', 'Bayonne nj', 'Corinth', 'New Jersey', 'Venice', 'Chicago', 'High Springs, FL', 'Tokyo', 'Mooresville NC', 'Apollo Beach', 'Fresno, CA', 'Pittsburgh', 'Santa Cruz.', 'Puerto Rico', 'New York', 'Panama City', 'Ft. Lauderdale', 'Shreveport', 'Oak Grove', 'WPB', 'Sydney Australia', 'Cape Coral', 'Toronto', 'Ottawa Ont', 'Weeki Wachee Fl.', 'St. Pete', 'Los Banos', 'North Carolina', 'Japan', 'Irvine, CA', 'Illinois', 'Texas', 'Sebastian, FL', 'Palm Island, Florida', 'Vancouver', 'Columbia, SC', 'Savannah, GA', 'Galt', 'Brick', 'Wichita KS', 'New York, NY', 'Lake Buena Vista', 'Chicago, IL', 'Seattle WA', 'South bend Indiana', 'Daytona', 'charlotte', 'Saint John, NB Canada', 'Pernambuco, Brasil', 'Michigan', 'San Francisco', 'Midland TX', 'Washington, DC', 'Washington', 'Oregon', 'Fontana,ca', 'Guadalajara', 'Maryland', 'Princeton', 'Vinton, VA 24179', 'Springfield, MA', 'New Bedford, MA', 'Sparks nv', 'West Palm Beach', 'Rockland, MA', 'Ann Arbor', 'Oshawa, on', 'Carlsbad', 'Santa Ana Ca.', 'Rotterdam', 'Leeds UK', 'Fresh Meadows', 'Ocala', 'Burlington ON Canada', 'Porirua, NZ', 'Northboro', 'Henderson, NV', 'Toowoomba', 'Key west', 'Azusa', 'Vero Beach', 'Orlando', 'Sydney', '東京', 'San Diego', 'Toronto, ON', 'NY', 'Santa Ana', 'Salt Lake City', 'Brick NJ', 'Québec', 'Truckee', 'Tamarac, Fl', 'Montreal, QC', 'NewSmyrnaBeach', 'Minster', 'Phoenix', 'Cary', 'Florida', 'Wash DC', 'Philadelphia', 'Clovis, CA', 'Kansas City', 'Belfast', 'CA', 'Willoughby, OH', 'LA Ca', 'Atlanta Ga', 'NYC', 'Reno nv', 'Scotland', 'Buenos Aires', 'Flushing, mi', 'Jersey City, NJ', 'Los angeles', 'Kissimmee fl', 'Plantation, FL', 'Plant City, FLORIDA', 'Modesto', 'Browns mills, NJ', 'Jacksonville, FL', 'Dorado, PR', 'Ft. Myers', 'Boston', 'Sanit Louis Missouri', 'Jupiter, Fl', 'miami', 'Fayetteville,NC', 'London Ontario', 'Palm harbor fl', 'Nebraska', 'Lincoln, CA', 'Newark ca', 'Punta Gorda', 'Brantford,ON. CANADA>', 'Richmond, VA', 'Atlanta, GA', 'Rhode Island', 'Jupiter, FL', 'New York, New York', 'Atlanta', 'Navarre, FL', 'San Jose', 'ny', 'Irvine', 'Long Island, NY', 'Tampa, FL', 'Toronto, Canada', 'Houston,TX', 'London', 'N.Y.', 'Maryland has', 'Sacramento CA. 95838', 'Coconut creek', 'Baltimore', 'Miami Beach, Florida', 'South Miami', 'Montreal', 'Glasgow', 'Marrakech', 'Amesbury', 'Belfast Northern Ireland', 'Indianapolis, IN', 'Ohio', 'Brooklyn, NY', 'Tampa', 'yakima wa', 'Virginia', 'Stuttgart', 'Nairobi', 'San Pedro', 'Lutz, Fl', 'Lake Buena VistaI', 'International', 'Utah', 'Key Largo, Florida', 'Ulm', 'Palm Beach', 'Long Beach', '大阪', 'Mission Viejo', 'Brampton, ON, CA', 'Toronto, Ontario, Canada', 'Hongkong', 'Albany, NY', 'Delray beach', 'Kentucky', 'Weston', 'Montreal, Canada', 'Buckinghamshire', 'Pa', 'Royal Leamington-Spa', 'Lockport, NY', 'Seattle, WA', 'West reading pa', 'Naples', 'Thousand Oaks', 'New Britain', 'Cincinnati', 'truro', 'Ocho Rios, Jamaica', 'seattle', 'Jupiter', 'Dunedin ,Fl', 'São Paulo', 'Tucson', 'Singapore', 'Burlington', 'Clover, SC', 'Sacramento', 'Wilkes-Barre/Scranton', 'Oklahoma', 'Cayman Islands', 'Arabia Saudita', 'Halifax', 'Delaware OH', 'Detroit', 'New Orleans', 'Magee Ms', 'Riverview', 'Las vegas', 'Western Australia', 'Oslo', 'Carson City', 'Fresh Meadows, NY', 'Bakersfield', 'Lake worth', 'New hyde park, ny', 'Plano TX', 'Temecula', 'Murrieta, CA', 'Jacksonville Florida', 'Fresno', 'Apple valley ca', 'Visalia Ca', 'CALOUNDRA', 'Frankfurt', 'Manchester', 'Edmonton', 'Fort Lauderdale', 'Denver', 'ROC', 'Wichita, ks', 'Reno', 'san diego, ca.', 'New Hampshire', 'Worcester', 'Williamsport, Pa', 'Stockton', 'Germany', 'Kent, Ohio', 'Winnipeg', 'Calgary', 'Bellizzi, it', 'High Point, us', 'Plano', 'Fort Lauderdale, Florida', 'Gallipoli is a small Island with a Radius of 500m', 'US', 'Alabama', 'Scarborough Me', 'Fresno ca', 'cary, NC', 'Aguascalientes, Mexico', 'South Orang, us', 'San Jose ca', 'Bay Area, CA', 'Irvine, ca', 'Carluke South lanarkshire', 'Santa Barbara, us', 'Jacksonville fl', 'Warminster, Pa, us', 'Holderness, NH', 'Las Vegas, NV', 'Vegas', 'La Canada, CA', 'New Haven, CT', 'Scituate, MA', 'Roseville Ca.', 'New Boston, MI', 'Auckland, New Zealand', 'us', 'Tesero', 'Aguadilla, P.R.', 'Fort. Wayne Indiana', 'Key Largo', 'Allentown, NJ', 'Williamston, NC', 'Short Hills, NJ', 'Oceanside, ca', 'Montreal, ca', 'Newark', 'Ell Paso, TX us', 'SF, CA', 'WPB, FL', 'Bordeaux', 'JAPAN', 'Plattsburgh ny', 'Grand Rapids, Mn', 'fremont', 'Warren, RI', 'Minnesota', 'Union, NJ', 'West Palm Beach, Florida', 'Queens, ny', 'Linz, at', 'Suitland md', 'Riverside, California', 'Port St. Lucie, Fl', 'Apopka', 'Washington DC', 'Monterey, US', 'Roseville CA', 'Topeks Ks', 'Fredericton, New Brunswick, Canada', 'New York, ny', 'Mequon, Wi', 'san jose, us', 'Bozeman MT', 'Nyc', 'Spring, TX', 'Mayaguez, PR', 'Boston, MA', 'Myrtle Beach', 'Portland, OR USA', 'Ruskin', 'Delray Beach Florida', 'Cedar Bluffs, Ne', 'St. Louis Mo', 'kansas', 'Greenville SC', 'Canoga Park, us', 'West Suffield', 'fort lauderdale, us', 'San diego, us', 'Falkirk,GB.', 'Estero,FL', 'Simi Valley, CA (USA)', 'Wisconsin', 'Sacramento, us', 'NY NY', 'Crown Point', 'Fruitvale Tx.', 'mississauga', 'Ky', 'Horseheads,NY, us', 'Auburn maine', 'Santa Cruz, us', 'Wethersfield Ct', 'Winter garden FL', 'Palm Beach, us', 'Terre Haute, IN USA', 'Victoria, ca', 'largo, fl', 'Sacramento, CA', 'Portland, OR', 'Orlando FL', 'Stuttgart, De', 'Lehi', 'Dubai, UAE', 'Ashland, Oregon', 'St. Lucie west', 'Carolina Puerto Rico', 'LA', 'Margate Florida', 'Pensacola, us', 'Zionsville, Pa', 'Fountain Valley, US', 'Coral Springs, FL', 'Coatbridge Scotland', 'Elkhart, IN', 'Port St. Lucie', 'Los Angeles, us', 'Honolulu, Hawaii', 'Hillsboro,Oregon', 'London, OH', 'Hilo, HI, U.S.', 'Danvers, MA', 'Portsmouth, RI', 'Upland, US', 'Chino Hills', 'Ottawa, ca', 'Orlando us', 'New Orleans, USA', 'Miami, FL, US', 'Orlando, fl', 'Lewiston NY', 'Stoke on Trent UK', 'Miami, Fl.', 'Ant landing ga', 'Clinton, MD', 'Gainesville florida', 'Immokalee fl', 's\\n St. Petersburg, Florida', 'Colorado', 'Winston-Salem, NC', 'Paris', 'Lake alfred, us', 'Reno, Nevada', 'Los Angeles, CA', 'Mukilteo, WA', 'Spokane WA', 'Halifax, N.S.', 'State College, PA', 'Miami Beach', 'Los ángeles , us', 'Stroudsburg Pa US', 'Birmingham, al', 'Lubbock tx', 'Milwaukee', 'wGreeashin\\n \\n Greendale', 'NorCal', 'Maine', 'Saratoga Springs NY', 'Miami, fl', 'Windsor CA', 'South Florida', 'Glasgow, UK', 'Westmont, IL, us', 'Merlin, Oregon, us', 'Fort Collins', 'NJ', 'Melbourne, FL', 'American Canyon Ca', 'Galloway, NJ', 'Parker, Colorado', 'Sacramento, California', 'CLERMONT-FD', 'RI', 'Southwick us', 'Chino Hills, us', 'NC', 'Hawaii, us', 'Las Vegas NV', 'fond du lac, WI', 'Modesto ca', 'Davie, FL', 'San Francisco, CA', 'BOSTON', 'Arizona', 'Palm Bay FL', 'Queretaro , mx', 'spring hill fl', 'St Barth', 'Mission', 'Woodbury us', 'Vancouver, BC', 'Birmingham, AL, US', 'SAO PAULO', 'West Des Moines, IA', 'Reading pa', 'Massachusetts', 'Orlando florida', 'Tampa, US', 'Jackson nj', 'Flirida', 'Georgia, us', 'sacramento, ca', 'Jacksonville, Florida', 'Schulenburg, TX', 'Minneapolis, us', 'San Antonio', 'North Branford, CT.', 'Huissen', 'Algoma wiscondin', 'Pt. Pleasant NJ', 'Bauru, SP - Brasil', 'Good', 'Oak Ridge, NJ', 'Boston mass', 'Seaside, CA', 'Walnut hill Illinois', 'Gifu Japan', 'Stuart, Florida', 'Paramus, N.J.', 'saitama, jp', 'Lockport NY', 'Collegeville, PA', 'Dania Beach, Fl', 'Riverside, CA', 'Fort Wayne, IN', 'St. Louis, MO', 'Stockholm', 'Richmond,va', 'Covina, CA', 'Lawrence, KS', 'Vancouver, Wa', 'Trois Ruisseaux NB Canada', 'Fonthill', 'Regina, SK', 'San Jose,Ca', 'Long Island NY', 'Brooklyn', 'Palm Coast FL', 'Clewiston, FL', 'Three Rivers, Mi', 'U.S. Virgin Islands', 'Newcastle', 'Cobleskill, NY', 'Aalborg, Denmark', 'Davie, Us', 'Iowa', 'Fort Myers', 'Fernandina Beach, FL', 'Newcastle upon Tyne', 'San Diego CA', 'San Diego, us', 'Hoboken', 'Braintree ma', 'Bradenton, US', 'Richmond Va', 'Land o lakes florida', 'Nova', 'Los Angeles CA', 'Nashville, TN, USA', 'Chico,CA', 'Orlando, FL', 'Tulare, ca', 'Suwanee GA.', 'Hutchinson Island, FL', 'Ithaca', 'Des Moines, IA', 'La Verne, California', 'Oakland, ca', 'Honeoye Falls NY', 'Brigdeport ct', 'Redford', 'new york, us', 'oromocto', 'irvine, us', 'Macon Ga', 'Antioch ca', 'Lee, us', 'Prescott Valley, AZ', 'Rochester, NY', 'fort myers fl', 'Prince George’s Co. MD', 'Bakersfield, ca', 'Bronx,new york', 'NRW', 'Bethesda, MD', 'Daegu, S.Korea', 'Maine, US', 'Chino Hill, CA', 'Portland Oregon', 'Edinburg, TX', 'canada', 'Queen Creek, us', 'columbus, tx', 'Hannover', 'Vancouver, ca', 'Ventura CA', 'Boone, NC', 'Edmonton, Alberta Canada', 'ontario', 'Elkhorn WI', 'Manhattan, NY', 'CT', 'Chicago,Il', 'Deerfield Beach, FL', 'Tulsa, Oklahoma, USA', 'Boston MA', 'Yorkton, Canada', 'Deerfield Beach, Florida', 'Northridge', 'middletown, ny', 'Studio City, CA', 'Newtown, CT', 'Reno, NV', 'Delmar, NY, us', 'Edwardsville, Ial', 'selden Ny', 'St. Louis', 'Philadelphia, PA', 'Howard Beach', 'Land O Lakes, FL, us', 'Hawthorne, California, USA', 'Long Island , NY', 'Las Vegas nv', 'Orlando Florida', 'Bensalem, US', 'Oldsmar, Fl', 'Miami, US', 'Avon, us', 'Maidstone', 'Loxahatchee Fl', 'Cleveland, OH', 'Destin, FL', 'Houston, us', 'Disney Springs', 'Frisco, TX', 'Dayton us', 'Rockville, us', 'Guildford, gb', 'Staffordshire', 'North east', 'Philadelphia, us', 'houston, us', 'Southampton ny', 'Midway, USA', 'Nyc, NY', 'Pismo', 'Flower Mound Tx', 'Petaluma, CA', 'huntington,NY', 'nagoya, jp', 'Lake Elsinore, US', 'Canada', 'Boyertown pa', 'Anderson, IN', 'Middletown, md', 'Champaign,IL', 'Carleton Place, ON Canada', 'Apopka Fl', 'DC', 'Los Angeles, California', 'Vancouver, Canada', 'Parkland, us', 'Pamplona', 'Hialeah, FL', 'Roma', 'Montana', 'Palm beach Gardens', 'Peterborough uk', 'Chelmsford', 'quebradillas', 'Tracy, CA', 'Pikeville, Ky', 'Queretaro mexico', 'Catania, it', 'Puebla', 'Exton, PA', 'barcelona', 'Sonneberg', 'Martinique', 'Guanajuato, México.', 'Chula vista CA', 'Birmingham, AL', 'San jose california', 'Mönchengladbach, de', 'Camuy pr', 'Louisville Kentucky', 'Miami, Florida', 'New york', 'Dallas, Texas', 'Huntington Beach, CA', 'Houston Tx', 'Magdeburg, De', 'Ft Walton Beach', 'gb', 'Yakima Washington', 'Northampton', 'Fairfax Station, VA', 'England', 'Flushing', 'Williamstown, NJ', 'Rice Lake WI', 'London, gb', 'Farmington, Mn.', 'Spring, tx', 'Manchester, UK', 'Portland,Me area', 'Waco, TX', 'Surrey UK', 'Gainesville, VA', 'Berkley, MA USA', 'Cannes', 'Panamá', 'Bronx, ny', 'las vegas', 'Carmichael, CA', 'Miami, FL', 'Boston, us', 'Tampa, Florida', 'Rochester', 'Rochester BY', 'jacksonville, Fl', 'Tampa, Fl', 'miami, us', 'Whitley Bay, gb', 'Liverpool, NY', 'New Jersey , us', 'Jacksonville, fl', 'Denver, CO', 'Orlando, Florida', 'Trinidad', 'RSM, USA', 'Uk', 'Stafford, VA', 'Ponce, PR', 'lutz, fl', 'Wayne, NJ', 'Lehigh Acres Florida', 'Mississippi', 'Southend-on-sea Essex', 'punta gorda, fl', 'Ayr Scotland', 'Hollywood, Fla', 'Calgary, ca', 'Dinuba California', 'Tampa FL', 'Antony, FR', 'MIGNANEGO - GENOVA - ITALIA', 'San Antonio Tx', 'Brisbane', 'Bethlehem, PA', 'Austin, TX', 'Leicester, UK', 'Cincinnati, Oh', 'OS, Ms', 'Deptford, NJ', 'Ratingen', 'San jose, ca', 'Hidson Valley, US', 'Gainesville VA', 'lakewood, oh', 'Regina Canada', 'White sulphur springs wv', 'Victoria', 'Phoenix AZ, us', 'New York City', 'panama', 'The OC', 'Berkeley', 'CO', 'Bardonecchia', 'San Jose, CA', 'Chicago, us', 'Sunrise, FL', 'Longwood', 'Hollister', 'Hamilton, ON, Canada', 'mexico', 'Santa Maria, California', 'Redding, CA', 'Bananas', 'Atlanta Georgis', 'Indiana', 'Gainesville,Fl', 'Livermore, Ca', 'Castleford', 'Bay Area', 'L.A', 'Rochester NY', 'Timmins , Ontario', 'Groningen', 'Manhattan', 'Elewah', 'Exeter', 'St Marys', 'Ontario, Canada', 'Toronto Ontario', 'Syracuse', 'Anaheim Ca', 'Vermont', 'ponce inlet', 'Dallas', 'Scotts Valley', 'South Bend, IN', 'Nyon', 'Queens', 'Ottawa Ontario', 'South Bay CA', 'Thunder Bay', 'Loves Park, IL', 'Alexandria, VA', 'Petaluma, Ca.', 'San Jose, CA Silicone Valley', 'Huntington Beach', 'Monterey county, california', 'Northern VA', 'Hawaii', 'Lamar SC', 'San Leandro', 'Marlboro, NY', 'Ontario', 'Bakersfield, California', 'Mexico', 'San Diego, CA', 'Calgary,AB', 'MILANO', 'Nassau Bahamas', 'Guatemala', 'San Jose, Ca', 'Hertfordshire', 'Lake Tahoe', 'Concord, NH', 'california', 'CDMX', 'San diego', 'Huntsville, AL', 'Queens, New York', 'Culver City, CA', 'Simi Valley', 'Milano', 'mennecy', 'Buena Park, Ca', 'Seoul, Korea', 'NEW YORK', 'Kennesaw, GA', 'Houston', 'Sunderland', 'Midlothian', 'Washington, D.C.', 'Gateshead', 'Belmar NJ', 'Minneapolis, MN', 'TX', 'New Yorker', 'New-york', 'Ottawa', 'Pittsburgh PA', 'miami fl', 'michigan', 'Oud beijerland', 'Ir', 'NEW YORKER', 'Harderwijk', 'sagamore beach ma', 'Silicon Valley San Jose', 'Calgary, Alberta', 'Portsmouth, UK', 'Omaha', 'Nashville, TN', 'queensland Australia', 'san lorenzo', 'New Rochelle, NY.', 'Orange County, CA', 'Dicht bij Amsterdam', 'Boise', 'San Jose Silicon Valley', 'Olympia, WA', 'Melbourne Australia', 'Valencia ca', 'UK', 'Ce', 'FL', 'Genova', 'Brewster, NY', 'Lancaster County, PA', 'LA, California', 'Tønder, DK', 'Crystal Beach, Ontario', 'Kingston, NY', 'Israel', 'Norddeutschland', 'Cambridge, England', 'Nova Scotia, Canada', 'Gävle, Sverige', 'St Monans', 'Va', 'Springfield NJ', 'Frankfurt-Rottweil', 'Stl, mo', 'Los Angeles, ca', 'bend', 'Santo Domingo', 'British Columbia', 'Fl', 'orlando, fl', 'San Jose airport', 'Amherst, NS', 'McHenry IL', 'Frankfurt, Germany', 'Philadelphia PA', 'warwick ny', 'Eagle, Idaho', 'Md', 'Angus,Scotland', 'Tennessee', 'Tustin', 'Tbilisi', 'Geneve', 'CT.', 'Frankfurt am Main', 'Mansfield, Texas', 'St louis', 'NYC Chinatown', 'Madison Wisconsin', 'Memphis', 'Oxnard, CA', 'Alberta', 'Wokingham, England', 'Austin', 'Saratoga new york', 'Den Haag', 'Stoke on Trent, England', 'San Diego Harbor Island', 'Pensacola', 'Fort Pierce, FL', 'Livingston', 'Andover, MA', 'Idaho', 'Ft lauderdale', 'South beach, Florida', 'Santa Cruz, CA', 'New Mexico', 'melbourne, australia', 'WI', 'Four Points', 'bcn', 'Monterrey', 'Agde', 'Melbourne', 'New York City, New York', 'Edmonton. AB', 'Sacramento ca', 'Düsseldorf', 'Neu-Isenburg', 'nyc', 'Nederland', 'Flushing, NY', 'Guildford, UK', 'hessen', 'Ottawa, Ontario', 'Dublin, CA', 'Central Virginia', 'Ocean Isle Beach N C', 'Columbus, Ohio', 'München', 'Stratford Canada', 'Delano, Ca.', 'Abbotsford BC', 'Central California', 'Northern California', 'orlando, Florida', 'Pittsburgh pa', 'San jose ca', 'Clarkdale, AZ', 'Kristinehamn', 'San jose', 'Olympia, Wa', 'Orlando, Fl', 'NRW, Germany', 'Uk Midlands.', 'new york', 'St. Petersburg, FL', 'Wine Country', 'West Portsmouth, Ohio', 'Wien', 'Wellington, Florida', 'England UK', 'Barbados', 'Newport Beach, CA', 'Milan, Italy', 'Houston,Tx', 'Santa fe', 'Hollywood Fl', 'Mhow India', 'tampa', 'Carson, CA', 'Phoenix,AZ', 'Melbourne, Australia.', 'Bay Area, California', 'Out USA', 'Escondido, ca', 'Wndermere', 'Taiwan', 'milan', 'Buena Park, CA', 'Bostin/MA', 'BC Canada', 'Huntsville, Ontario, Canada', 'Red Deer', 'Bradenton, FL', 'San Luis Obispo', 'Ct', 'Surrey, BC', 'Queens New York', 'Cardiff', 'coventry. UK', 'ascoli piceno', 'Bologna', 'atlanta ga', 'Madrid', 'MS', 'bergen, norge', 'Busan, Korea', 'Poland', 'Oc', 'SC', 'Vacaville', 'Centrally located to restaurants and Disneyland.', 'Hong Kong', 'Bellevue, WA', 'West Salem, WI', 'Baghdad', '2186', 'vittorio veneto', 'Detroit, MI', 'Waterford Michigan', 'Palm Springs', 'Ticonderoga ny', 'Biella IT', 'Shizuoka, Japan', 'Orando FL', 'Terral, OK', 'Rohnert Park, CA', 'Calif', 'wyndham garden silicon valley ,san jose ca.', 'NYC NY', 'atlantic city', 'Ny', 'Venezuela', 'Conway, SC', 'oregon', 'Los Angeles, Ca', 'Haarlem', 'Keizer Oregon', 'Gent', 'San Juan, PR', 'Orlando Fl', 'Udine', 'Jamaica Estates, NY', 'OC, CA', 'Mesa, AZ', 'Albany NY', 'Nj', 'Amber, Bayern', 'Puerto Eixo', 'Oakland,CA', 'Lake arrowhead, ca', 'San Jose, California', 'Washington State', 'West Monroe NY', 'New-York', 'So Cal', 'Yuba City California', 'Minnehaha', 'MD', 'irvine', 'Bayview', 'San Jose CA', 'Fresh Meadows, New York', 'San jose, California', \"Lee's Summit\", 'Toronto Area, Ontario, Canada', 'United States of America', 'United Arab Emirates', 'Slovenia', 'United Kingdom', 'France', 'Netherlands', 'Philippines', 'El Salvador', 'New Zealand', 'Italy', 'Costa Rica', 'China', 'Kuwait', 'Switzerland', 'Bermuda', 'South Africa', 'Greece', 'Guam', 'Ireland', 'Colombia', 'India', 'Malaysia', 'Trinidad and Tobago']\n",
            "There are 1083 Unique Locations.\n"
          ]
        }
      ]
    }
  ]
}